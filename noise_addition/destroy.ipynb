{
 "cells": [
  {
   "cell_type": "code",
   "execution_count": 1,
   "metadata": {},
   "outputs": [],
   "source": [
    "from PIL import Image\n",
    "import numpy as np\n",
    "import random\n",
    "import cv2\n",
    "from io import BytesIO"
   ]
  },
  {
   "cell_type": "code",
   "execution_count": 19,
   "metadata": {},
   "outputs": [],
   "source": [
    "def pil_to_np(img_PIL):\n",
    "    '''Converts image in PIL format to np.array.\n",
    "\n",
    "    From W x H x C [0...255] to C x W x H [0..1]\n",
    "    '''\n",
    "    ar = np.array(img_PIL)\n",
    "\n",
    "    if len(ar.shape) == 3:\n",
    "        ar = ar.transpose(2, 0, 1)\n",
    "    else:\n",
    "        ar = ar[None, ...]\n",
    "\n",
    "    return ar.astype(np.float32) / 255.\n",
    "\n",
    "\n",
    "def np_to_pil(img_np):\n",
    "    '''Converts image in np.array format to PIL image.\n",
    "\n",
    "    From C x W x H [0..1] to  W x H x C [0...255]\n",
    "    '''\n",
    "    ar = np.clip(img_np * 255, 0, 255).astype(np.uint8)\n",
    "\n",
    "    if img_np.shape[0] == 1:\n",
    "        ar = ar[0]\n",
    "    else:\n",
    "        ar = ar.transpose(1, 2, 0)\n",
    "\n",
    "    return Image.fromarray(ar)\n",
    "\n",
    "def synthesize_salt_pepper(image,amount,salt_vs_pepper):\n",
    "\n",
    "    ## Give PIL, return the noisy PIL\n",
    "\n",
    "    img_pil=pil_to_np(image)\n",
    "\n",
    "    out = img_pil.copy()\n",
    "    p = amount\n",
    "    q = salt_vs_pepper\n",
    "    flipped = np.random.choice([True, False], size=img_pil.shape,\n",
    "                               p=[p, 1 - p])\n",
    "    salted = np.random.choice([True, False], size=img_pil.shape,\n",
    "                              p=[q, 1 - q])\n",
    "    peppered = ~salted\n",
    "    out[flipped & salted] = 1\n",
    "    out[flipped & peppered] = 0.\n",
    "    noisy = np.clip(out, 0, 1).astype(np.float32)\n",
    "\n",
    "\n",
    "    return np_to_pil(noisy)\n",
    "\n",
    "def synthesize_gaussian(image,std_l,std_r):\n",
    "\n",
    "    ## Give PIL, return the noisy PIL\n",
    "\n",
    "    img_pil=pil_to_np(image)\n",
    "\n",
    "    mean=0\n",
    "    std=random.uniform(std_l/255.,std_r/255.)\n",
    "    gauss=np.random.normal(loc=mean,scale=std,size=img_pil.shape)\n",
    "    noisy=img_pil+gauss\n",
    "    noisy=np.clip(noisy,0,1).astype(np.float32)\n",
    "\n",
    "    return np_to_pil(noisy)\n",
    "\n",
    "def synthesize_speckle(image,std_l,std_r):\n",
    "\n",
    "    ## Give PIL, return the noisy PIL\n",
    "\n",
    "    img_pil=pil_to_np(image)\n",
    "\n",
    "    mean=0\n",
    "    std=random.uniform(std_l/255.,std_r/255.)\n",
    "    gauss=np.random.normal(loc=mean,scale=std,size=img_pil.shape)\n",
    "    noisy=img_pil+gauss*img_pil\n",
    "    noisy=np.clip(noisy,0,1).astype(np.float32)\n",
    "\n",
    "    return np_to_pil(noisy)\n",
    "\n",
    "\n",
    "def synthesize_low_resolution(img):\n",
    "    w,h=img.size\n",
    "    new_w=random.randint(int(w/2),w)\n",
    "    new_h=random.randint(int(h/2),h)\n",
    "\n",
    "    img=img.resize((new_w,new_h),Image.BICUBIC)\n",
    "\n",
    "    if random.uniform(0,1)<0.5:\n",
    "        img=img.resize((w,h),Image.NEAREST)\n",
    "    else:\n",
    "        img = img.resize((w, h), Image.BILINEAR)\n",
    "\n",
    "    return img\n",
    "\n",
    "\n",
    "def convertToJpeg(im,quality):\n",
    "    with BytesIO() as f:\n",
    "        im.save(f, format='JPEG',quality=quality)\n",
    "        f.seek(0)\n",
    "        return Image.open(f).convert('RGB')\n",
    "\n",
    "\n",
    "def blur_image(img):\n",
    "    x=np.array(img)\n",
    "    kernel_size_candidate=[(3,3),(5,5),(7,7)]\n",
    "    kernel_size=random.sample(kernel_size_candidate,1)[0]\n",
    "    std=random.uniform(1.,3.)\n",
    "\n",
    "    #print(\"The gaussian kernel size: (%d,%d) std: %.2f\"%(kernel_size[0],kernel_size[1],std))\n",
    "    blur=cv2.GaussianBlur(x,kernel_size,std)\n",
    "\n",
    "    return Image.fromarray(blur.astype(np.uint8))\n",
    "\n",
    "def online_add_degradation(img):\n",
    "\n",
    "    task_id=np.random.permutation(4)\n",
    "\n",
    "    for x in task_id:\n",
    "        if x==0 and random.uniform(0,1)<0.7:\n",
    "            img = blur_image(img)\n",
    "        if x==1 and random.uniform(0,1)<0.7:\n",
    "            flag = random.choice([1, 2, 3])\n",
    "            if flag == 1:\n",
    "                img = synthesize_gaussian(img, 5, 50)\n",
    "            if flag == 2:\n",
    "                img = synthesize_speckle(img, 5, 50)\n",
    "            if flag == 3:\n",
    "                img = synthesize_salt_pepper(img, random.uniform(0, 0.01), random.uniform(0.3, 0.8))\n",
    "        if x==2 and random.uniform(0,1)<0.7:\n",
    "            img=synthesize_low_resolution(img)\n",
    "\n",
    "        if x==3 and random.uniform(0,1)<0.7:\n",
    "            img=convertToJpeg(img,random.randint(40,100))\n",
    "\n",
    "    return img\n",
    "\n",
    "\n",
    "def irregular_hole_synthesize(img,mask):\n",
    "\n",
    "    img_np=np.array(img).astype('uint8')\n",
    "    mask_np=np.array(mask).astype('uint8')\n",
    "    mask_np=mask_np/255\n",
    "    img_new=img_np*(1-mask_np)+mask_np*255\n",
    "\n",
    "\n",
    "    hole_img=Image.fromarray(img_new.astype('uint8')).convert(\"RGB\")\n",
    "\n",
    "    return hole_img,mask.convert(\"L\")\n",
    "\n",
    "def zero_mask(size):\n",
    "    x=np.zeros((size,size,3)).astype('uint8')\n",
    "    mask=Image.fromarray(x).convert(\"RGB\")\n",
    "    return mask"
   ]
  },
  {
   "cell_type": "code",
   "execution_count": 20,
   "metadata": {},
   "outputs": [],
   "source": [
    "# Load your image\n",
    "img = Image.open(\"D:\\WarpNET\\WarpNet\\images\\kharab_kar.jpg\")\n",
    "\n",
    "# resize the image\n",
    "img=img.resize((500, 500),Image.BICUBIC)"
   ]
  },
  {
   "cell_type": "code",
   "execution_count": 21,
   "metadata": {},
   "outputs": [],
   "source": [
    "def show_image(title, image):\n",
    "    cv2.imshow(title, cv2.cvtColor(np.array(image), cv2.COLOR_RGB2BGR))\n",
    "    cv2.waitKey(0)\n",
    "    cv2.destroyAllWindows()"
   ]
  },
  {
   "cell_type": "code",
   "execution_count": 29,
   "metadata": {},
   "outputs": [],
   "source": [
    "noisy_img = blur_image(img)\n",
    "show_image(\"blurred image\", noisy_img)"
   ]
  },
  {
   "cell_type": "code",
   "execution_count": 12,
   "metadata": {},
   "outputs": [],
   "source": [
    "show_image(\"Original Image\", img)"
   ]
  },
  {
   "cell_type": "code",
   "execution_count": 13,
   "metadata": {},
   "outputs": [],
   "source": [
    "noisy_image = synthesize_gaussian(img, 5, 50)\n",
    "show_image(\"gaussian\", noisy_image)"
   ]
  },
  {
   "cell_type": "code",
   "execution_count": 14,
   "metadata": {},
   "outputs": [],
   "source": [
    "noisy_image = synthesize_speckle(img, 10, 100)\n",
    "show_image(\"speckle\", noisy_image)"
   ]
  },
  {
   "cell_type": "code",
   "execution_count": 15,
   "metadata": {},
   "outputs": [
    {
     "name": "stdout",
     "output_type": "stream",
     "text": [
      "500 500\n"
     ]
    },
    {
     "name": "stderr",
     "output_type": "stream",
     "text": [
      "/tmp/ipykernel_14157/2963804189.py:86: DeprecationWarning: BICUBIC is deprecated and will be removed in Pillow 10 (2023-07-01). Use Resampling.BICUBIC instead.\n",
      "  img=img.resize((new_w,new_h),Image.BICUBIC)\n",
      "/tmp/ipykernel_14157/2963804189.py:89: DeprecationWarning: NEAREST is deprecated and will be removed in Pillow 10 (2023-07-01). Use Resampling.NEAREST or Dither.NONE instead.\n",
      "  img=img.resize((w,h),Image.NEAREST)\n"
     ]
    }
   ],
   "source": [
    "noisy_image = synthesize_low_resolution(img)\n",
    "show_image(\"low resolution\", noisy_image)"
   ]
  },
  {
   "cell_type": "code",
   "execution_count": 16,
   "metadata": {},
   "outputs": [],
   "source": [
    "noisy_image = synthesize_salt_pepper(img, random.uniform(0, 0.01), random.uniform(0.3, 0.8))\n",
    "show_image(\"salt and pepper\", noisy_image)"
   ]
  },
  {
   "cell_type": "code",
   "execution_count": 17,
   "metadata": {},
   "outputs": [],
   "source": [
    "noisy_image = blur_image(img)\n",
    "show_image(\"blur\", noisy_image)"
   ]
  },
  {
   "cell_type": "code",
   "execution_count": 18,
   "metadata": {},
   "outputs": [],
   "source": [
    "noisy_image = synthesize_gaussian(img, 5, 50)\n",
    "noisy_image = synthesize_salt_pepper(noisy_image, random.uniform(0, 0.01), random.uniform(0.3, 0.8))\n",
    "show_image(\"gaussian and salt and pepper\", noisy_image)"
   ]
  },
  {
   "cell_type": "code",
   "execution_count": 19,
   "metadata": {},
   "outputs": [],
   "source": [
    "noisy_image = synthesize_gaussian(img, 5, 50)\n",
    "noisy_image = synthesize_speckle(noisy_image, 10, 100)\n",
    "show_image(\"gaussian and speckle\", noisy_image)"
   ]
  },
  {
   "cell_type": "code",
   "execution_count": 20,
   "metadata": {},
   "outputs": [],
   "source": [
    "noisy_image = synthesize_gaussian(img, 5, 50)\n",
    "noisy_image = blur_image(noisy_image)\n",
    "show_image(\"gaussian and blur\", noisy_image)"
   ]
  }
 ],
 "metadata": {
  "kernelspec": {
   "display_name": "Python 3",
   "language": "python",
   "name": "python3"
  },
  "language_info": {
   "codemirror_mode": {
    "name": "ipython",
    "version": 3
   },
   "file_extension": ".py",
   "mimetype": "text/x-python",
   "name": "python",
   "nbconvert_exporter": "python",
   "pygments_lexer": "ipython3",
   "version": "3.undefined.undefined"
  }
 },
 "nbformat": 4,
 "nbformat_minor": 2
}
