{
 "cells": [
  {
   "cell_type": "code",
   "execution_count": 8,
   "metadata": {},
   "outputs": [],
   "source": [
    "from PIL import Image\n",
    "import numpy as np\n",
    "import random\n",
    "\n",
    "def add_random_holes(image, num_holes=5, max_hole_size=30):\n",
    "    h, w = image.size\n",
    "    img_array = np.array(image)\n",
    "    \n",
    "    for _ in range(num_holes):\n",
    "        hole_size = random.randint(5, max_hole_size)\n",
    "        y = random.randint(0, h - hole_size)\n",
    "        x = random.randint(0, w - hole_size)\n",
    "        img_array[y:y + hole_size, x:x + hole_size] = 0  # Set hole to black\n",
    "    \n",
    "    return Image.fromarray(img_array)\n",
    "\n",
    "def add_random_scratches(image, num_scratches=5, scratch_length=20):\n",
    "    h, w = image.size\n",
    "    img_array = np.array(image)\n",
    "    \n",
    "    for _ in range(num_scratches):\n",
    "        y = random.randint(0, h - 1)\n",
    "        x = random.randint(0, w - scratch_length)\n",
    "        img_array[y, x:x + scratch_length] = 255  # Set scratch to white\n",
    "    \n",
    "    return Image.fromarray(img_array)\n",
    "\n",
    "def add_random_spots(image, num_spots=10, spot_radius=5):\n",
    "    img_array = np.array(image)\n",
    "    h, w = img_array.shape[:2]\n",
    "    \n",
    "    for _ in range(num_spots):\n",
    "        y = random.randint(spot_radius, h - spot_radius)\n",
    "        x = random.randint(spot_radius, w - spot_radius)\n",
    "        for i in range(-spot_radius, spot_radius + 1):\n",
    "            for j in range(-spot_radius, spot_radius + 1):\n",
    "                if i**2 + j**2 <= spot_radius**2:\n",
    "                    img_array[y + i, x + j] = 0  # Set spot to black\n",
    "    \n",
    "    return Image.fromarray(img_array)\n",
    "\n",
    "# Example usage\n",
    "img = \"WarpNet\\images\\chihuahua.jpeg\" # Replace with your image file\n",
    "input_image = Image.open(img)\n",
    "# degradation_functions = [add_random_holes, add_random_scratches, add_random_spots]\n",
    "\n",
    "# # Randomly apply one of the degradation functions to the input image\n",
    "# selected_function = random.choice(degradation_functions)\n",
    "# degraded_image = selected_function(input_image.copy())\n",
    "\n",
    "# # Display the original and degraded images\n",
    "# input_image.show(title=\"Original Image\")\n",
    "# degraded_image.show(title=\"Degraded Image\")\n"
   ]
  },
  {
   "cell_type": "code",
   "execution_count": 9,
   "metadata": {},
   "outputs": [],
   "source": [
    "degraded_image = add_random_holes(input_image)\n",
    "degraded_image.show(title=\"Degraded Image\")\n",
    "\n",
    "degraded_image.save(\"WarpNet\\images\\holes.jpg\")"
   ]
  },
  {
   "cell_type": "code",
   "execution_count": 10,
   "metadata": {},
   "outputs": [],
   "source": [
    "degraded_image = add_random_spots(input_image)\n",
    "degraded_image.show(title=\"Degraded Image\")\n",
    "\n",
    "degraded_image.save(\"WarpNet\\images\\spots.jpg\")"
   ]
  }
 ],
 "metadata": {
  "kernelspec": {
   "display_name": "Python 3",
   "language": "python",
   "name": "python3"
  },
  "language_info": {
   "codemirror_mode": {
    "name": "ipython",
    "version": 3
   },
   "file_extension": ".py",
   "mimetype": "text/x-python",
   "name": "python",
   "nbconvert_exporter": "python",
   "pygments_lexer": "ipython3",
   "version": "3.11.3"
  }
 },
 "nbformat": 4,
 "nbformat_minor": 2
}
